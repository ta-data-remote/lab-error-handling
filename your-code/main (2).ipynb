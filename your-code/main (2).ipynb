{
 "cells": [
  {
   "cell_type": "markdown",
   "metadata": {},
   "source": [
    "# Before your start:\n",
    "- Read the README.md file\n",
    "- Comment as much as you can and use the resources in the README.md file\n",
    "- Happy learning!"
   ]
  },
  {
   "cell_type": "code",
   "execution_count": 1,
   "metadata": {},
   "outputs": [],
   "source": [
    "# Libraries\n",
    "import math "
   ]
  },
  {
   "cell_type": "markdown",
   "metadata": {},
   "source": [
    "# Types of errors"
   ]
  },
  {
   "cell_type": "markdown",
   "metadata": {},
   "source": [
    "`Syntax errors`, also known as parsing errors: The parser repeats the offending line and displays a little ‘arrow’ pointing at the earliest point in the line where the error was detected."
   ]
  },
  {
   "cell_type": "markdown",
   "metadata": {},
   "source": [
    "Even if a statement or expression is syntactically correct, it may cause an error when an attempt is made to execute it. Errors detected during execution are called `exceptions`. Most exceptions are not handled by programs, however, and result in error messages."
   ]
  },
  {
   "cell_type": "markdown",
   "metadata": {},
   "source": [
    "# Challenge 1 - Handling Exceptions Using `if` Statements\n",
    "\n",
    "In many cases, we are able to identify issues that may come up in our code and handle those handlful of issues with an `if` statment. Sometimes we would like to handle different types of inputs and are aware that later in the code, we will have to write two different branches of code for the two different cases we allowed in the beginning.\n",
    "\n",
    "In the 3 cells below, add an `if` statment that will handle both types of input allowed in the functions."
   ]
  },
  {
   "cell_type": "code",
   "execution_count": 2,
   "metadata": {},
   "outputs": [
    {
     "data": {
      "text/plain": [
       "1.0"
      ]
     },
     "execution_count": 2,
     "metadata": {},
     "output_type": "execute_result"
    }
   ],
   "source": [
    "# Modify the code below to handle positive and negative numbers by adding an if statement and performing a transformation:\n",
    "\n",
    "def sqrt_for_all(x):\n",
    "    \"\"\"\n",
    "    This function will take any real number and \n",
    "    return the square root of its magnitude.\n",
    "    \n",
    "    Input: Real number\n",
    "    Output: Real number\n",
    "    \n",
    "    Sample Input: -4\n",
    "    Sample Output: 2.0\n",
    "    \"\"\"\n",
    "    if x<0:\n",
    "        return math.sqrt(x*(-1))\n",
    "    else:\n",
    "        return math.sqrt(x)\n",
    "    \n",
    " \n",
    "\n",
    "sqrt_for_all(-1)"
   ]
  },
  {
   "cell_type": "code",
   "execution_count": 5,
   "metadata": {},
   "outputs": [
    {
     "name": "stdout",
     "output_type": "stream",
     "text": [
      "division by zero not allowed, result 0 \n"
     ]
    },
    {
     "data": {
      "text/plain": [
       "0"
      ]
     },
     "execution_count": 5,
     "metadata": {},
     "output_type": "execute_result"
    }
   ],
   "source": [
    "# Modify the code below to handle zero as well. In the case of zero, return zero\n",
    "\n",
    "def divide(x, y):\n",
    "    \"\"\"\n",
    "    This function will take any two real numbers \n",
    "    and return their quotient. \n",
    "    If the denominator is zero, we return zero.\n",
    "    \n",
    "    Input: Real number\n",
    "    Output: Real number\n",
    "    \n",
    "    Sample Input: 5, 1\n",
    "    Sample Output: 5.0\n",
    "    \"\"\"\n",
    "\n",
    "    try:\n",
    "        return x / y\n",
    "    except ZeroDivisionError:\n",
    "        print(\"division by zero not allowed, result 0 \")\n",
    "        return 0\n",
    "    \n",
    "    return x / y\n",
    "\n",
    "divide(5, 0)"
   ]
  },
  {
   "cell_type": "code",
   "execution_count": null,
   "metadata": {},
   "outputs": [],
   "source": [
    "# Modify the function below that it will take either an number and a list or two numbers. \n",
    "# If we take two numbers, add them together and return a list of length 1. \n",
    "# Otherwise, add the number to every element of the list and return the resulting list\n",
    "\n",
    "def add_elements(a, l):\n",
    "    \"\"\"\n",
    "    This function takes either two numbers or a list and a number \n",
    "    and adds the number to all elements of the list.\n",
    "    If the function only takes two numbers, it returns a list \n",
    "    of length one that is the sum of the numbers.\n",
    "    \n",
    "    Input: number and list or two numbers\n",
    "    Output: list\n",
    "    \n",
    "    Sample Input: 5, 6\n",
    "    Sample Output: [11]\n",
    "    \"\"\"\n",
    "    \n",
    "    try:\n",
    "        \n",
    "        if type(l)==int:\n",
    "            return a+l\n",
    "        else:\n",
    "            return [a + element for element in l]\n",
    "    except TypeError:\n",
    "        print(\"You must use either two numbers or a list\")\n",
    "            \n",
    "   \n",
    "        \n",
    "print(add_elements(5, 6))\n",
    "print(add_elements(5,[1,2,3,4,5]))\n",
    "\n",
    "add_elements(5,\"a\")\n",
    "\n",
    "\n",
    "        \n"
   ]
  },
  {
   "cell_type": "markdown",
   "metadata": {},
   "source": [
    "# Challenge 2 - Handling exceptions with `try` and `except`"
   ]
  },
  {
   "cell_type": "markdown",
   "metadata": {},
   "source": [
    "When using `try` and `except`, we place code that we know or think that can rise an exception inside the `try` block and the code that will handle that exception (the code that will run in case a certain error arises) in the `except` block.\n",
    "When handling exceptions with `try` and `except` it's a good practice to specify which error are we trying to catch in the `except` clause, otherwise we will handle all the possible errors that arise in the try block in the same way. This also means that we can have several `except` blocks, since a piece of code can raise more than one error."
   ]
  },
  {
   "cell_type": "markdown",
   "metadata": {},
   "source": [
    "In the following example you will see how we handle an error that arises when the user doesn't give us the desired input:"
   ]
  },
  {
   "cell_type": "code",
   "execution_count": null,
   "metadata": {},
   "outputs": [],
   "source": [
    "try:\n",
    "    answer = int(input('Please enter a number'))\n",
    "except ValueError:\n",
    "    print('The program exploded...You were supposed to give me an integer!!')"
   ]
  },
  {
   "cell_type": "markdown",
   "metadata": {},
   "source": [
    "In the 4 cells below, modify the code to catch the error and print a meaningful message that will alert the user what went wrong. You may catch the error using a general except or a specific except for the error caused by the code. Here you have a list of the [built-in exceptions](https://docs.python.org/3/library/exceptions.html)"
   ]
  },
  {
   "cell_type": "code",
   "execution_count": null,
   "metadata": {},
   "outputs": [],
   "source": [
    "# Modify the code below:\n",
    "\n",
    "try:\n",
    "    print(some_string)\n",
    "except NameError:\n",
    "    print(\"You need to define the variable, it is null\")\n"
   ]
  },
  {
   "cell_type": "code",
   "execution_count": null,
   "metadata": {},
   "outputs": [],
   "source": [
    "# Modify the code below:\n",
    "\n",
    "for i in ['a','b','c']:\n",
    "    try:\n",
    "        print (i**2)\n",
    "    except:\n",
    "        print(\"unsupported operand type\")"
   ]
  },
  {
   "cell_type": "code",
   "execution_count": null,
   "metadata": {},
   "outputs": [],
   "source": [
    "# Modify the code below:\n",
    "\n",
    "ix = 5\n",
    "y = 0\n",
    "try: \n",
    "    z = x/y\n",
    "except:\n",
    "    print(\"ZeroDivisionError\")"
   ]
  },
  {
   "cell_type": "code",
   "execution_count": null,
   "metadata": {},
   "outputs": [],
   "source": [
    "# Modify the code below:\n",
    "\n",
    "abc=[10,20,20]\n",
    "try:\n",
    "    print(abc[3])\n",
    "except:\n",
    "    print(\"Index out of range\")"
   ]
  },
  {
   "cell_type": "markdown",
   "metadata": {},
   "source": [
    "# Challenge 3 - Fixing Errors to Get Code to Run\n",
    "\n",
    "Sometimes the error is not caused by the input but by the code itself. In the 2 following cells below, examine the error and correct the code to avoid the error."
   ]
  },
  {
   "cell_type": "code",
   "execution_count": null,
   "metadata": {},
   "outputs": [],
   "source": [
    "# Modify the code below:\n",
    "\n",
    "l = [1,2,3,4,5,6,7,8]\n",
    "\n",
    "sum([element + 1 for element in l]"
   ]
  },
  {
   "cell_type": "code",
   "execution_count": null,
   "metadata": {},
   "outputs": [],
   "source": [
    "# Modify the code below:\n",
    "\n",
    "l = [1,2,3,4,5,6,7,8]\n",
    "\n",
    "for element in l:\n",
    "    print(element  + \"is in the list\")"
   ]
  },
  {
   "cell_type": "markdown",
   "metadata": {},
   "source": [
    "# Bonus Challenge - Raise Errors on Your Own\n",
    "\n",
    "There are cases where you need to alert your users of a problem even if the input will not immediately produce an error. In these cases you may want to throw an error yourself to bring attention to the problem. In the 2 cells below, write the functions as directed and add the appropriate errors using the `raise` clause. Make sure to add a meaningful error message."
   ]
  },
  {
   "cell_type": "code",
   "execution_count": 13,
   "metadata": {},
   "outputs": [
    {
     "ename": "ValueError",
     "evalue": "This function can't work with 0",
     "output_type": "error",
     "traceback": [
      "\u001b[1;31m---------------------------------------------------------------------------\u001b[0m",
      "\u001b[1;31mValueError\u001b[0m                                Traceback (most recent call last)",
      "\u001b[1;32m<ipython-input-13-2dec6c829c07>\u001b[0m in \u001b[0;36m<module>\u001b[1;34m\u001b[0m\n\u001b[0;32m     24\u001b[0m         \u001b[1;32mreturn\u001b[0m \u001b[0mlog\u001b[0m\u001b[1;33m(\u001b[0m\u001b[0mx\u001b[0m\u001b[1;33m,\u001b[0m\u001b[1;36m2\u001b[0m\u001b[1;33m)\u001b[0m\u001b[1;33m\u001b[0m\u001b[1;33m\u001b[0m\u001b[0m\n\u001b[0;32m     25\u001b[0m \u001b[1;33m\u001b[0m\u001b[0m\n\u001b[1;32m---> 26\u001b[1;33m \u001b[0mprint\u001b[0m\u001b[1;33m(\u001b[0m\u001b[0mlog_square\u001b[0m\u001b[1;33m(\u001b[0m\u001b[1;36m0\u001b[0m\u001b[1;33m)\u001b[0m\u001b[1;33m)\u001b[0m\u001b[1;33m\u001b[0m\u001b[1;33m\u001b[0m\u001b[0m\n\u001b[0m\u001b[0;32m     27\u001b[0m \u001b[1;33m\u001b[0m\u001b[0m\n",
      "\u001b[1;32m<ipython-input-13-2dec6c829c07>\u001b[0m in \u001b[0;36mlog_square\u001b[1;34m(x)\u001b[0m\n\u001b[0;32m     16\u001b[0m     \u001b[1;31m# Your code here:\u001b[0m\u001b[1;33m\u001b[0m\u001b[1;33m\u001b[0m\u001b[1;33m\u001b[0m\u001b[0m\n\u001b[0;32m     17\u001b[0m     \u001b[1;32mif\u001b[0m \u001b[0mx\u001b[0m\u001b[1;33m==\u001b[0m\u001b[1;36m0\u001b[0m\u001b[1;33m:\u001b[0m\u001b[1;33m\u001b[0m\u001b[1;33m\u001b[0m\u001b[0m\n\u001b[1;32m---> 18\u001b[1;33m         \u001b[1;32mraise\u001b[0m \u001b[0mValueError\u001b[0m \u001b[1;33m(\u001b[0m\u001b[1;34m\"This function can't work with 0\"\u001b[0m\u001b[1;33m)\u001b[0m\u001b[1;33m\u001b[0m\u001b[1;33m\u001b[0m\u001b[0m\n\u001b[0m\u001b[0;32m     19\u001b[0m     \u001b[1;32melif\u001b[0m \u001b[0mx\u001b[0m\u001b[1;33m<\u001b[0m\u001b[1;36m0\u001b[0m\u001b[1;33m:\u001b[0m\u001b[1;33m\u001b[0m\u001b[1;33m\u001b[0m\u001b[0m\n\u001b[0;32m     20\u001b[0m         \u001b[1;32mraise\u001b[0m \u001b[0mValueError\u001b[0m \u001b[1;33m(\u001b[0m\u001b[1;34m\"This function can't work with negative numbers\"\u001b[0m\u001b[1;33m)\u001b[0m\u001b[1;33m\u001b[0m\u001b[1;33m\u001b[0m\u001b[0m\n",
      "\u001b[1;31mValueError\u001b[0m: This function can't work with 0"
     ]
    }
   ],
   "source": [
    "from math import log\n",
    "def log_square(x):\n",
    "    \"\"\"\n",
    "    This function takes a numeric value and returns the \n",
    "    natural log of the square of the number.\n",
    "    The function raises an error if the number is equal to zero.\n",
    "    Use the math.log function in this funtion.\n",
    "    \n",
    "    Input: Real number\n",
    "    Output: Real number or error\n",
    "    \n",
    "    Sample Input: 5\n",
    "    Sample Output: 3.21887\n",
    "    \"\"\"\n",
    "    \n",
    "    # Your code here:\n",
    "    if x==0:\n",
    "        raise ValueError (\"It is not valid with 0\")\n",
    "    elif x<0:\n",
    "        raise ValueError (\"It is not valid with negative numbers\")\n",
    "    \n",
    "    \n",
    "    else:\n",
    "        return log(x,2)\n",
    "    \n",
    "print(log_square(0))\n",
    "        "
   ]
  },
  {
   "cell_type": "code",
   "execution_count": 6,
   "metadata": {},
   "outputs": [
    {
     "data": {
      "text/plain": [
       "False"
      ]
     },
     "execution_count": 6,
     "metadata": {},
     "output_type": "execute_result"
    }
   ],
   "source": [
    "def check_capital(x):\n",
    "    \"\"\"\n",
    "    This function returns true if the string contains \n",
    "    at least one capital letter and throws an error otherwise.\n",
    "    \n",
    "bbb    Input: String\n",
    "    Output: Bool or error message\n",
    "    \n",
    "    Sample Input: 'John'\n",
    "    Sample Output: True\n",
    "    \"\"\"\n",
    "    \n",
    "    # Your code here:\n",
    "    \n",
    "    if any(map(str.isupper,x)):\n",
    "        return True\n",
    "    return False\n",
    "\n",
    "check_capital('john')"
   ]
  },
  {
   "cell_type": "code",
   "execution_count": null,
   "metadata": {},
   "outputs": [],
   "source": []
  }
 ],
 "metadata": {
  "kernelspec": {
   "display_name": "Python 3",
   "language": "python",
   "name": "python3"
  },
  "language_info": {
   "codemirror_mode": {
    "name": "ipython",
    "version": 3
   },
   "file_extension": ".py",
   "mimetype": "text/x-python",
   "name": "python",
   "nbconvert_exporter": "python",
   "pygments_lexer": "ipython3",
   "version": "3.8.8"
  }
 },
 "nbformat": 4,
 "nbformat_minor": 2
}
